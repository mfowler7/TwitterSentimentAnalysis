{
 "cells": [
  {
   "cell_type": "code",
   "execution_count": 1,
   "metadata": {
    "colab": {
     "base_uri": "https://localhost:8080/"
    },
    "id": "9Wk4-ftGuDsD",
    "outputId": "e6448cd0-8b54-4053-b0f7-69f69a43e061"
   },
   "outputs": [
    {
     "name": "stdout",
     "output_type": "stream",
     "text": [
      "Requirement already satisfied: contractions in /usr/local/lib/python3.7/dist-packages (0.0.52)\n",
      "Requirement already satisfied: textsearch>=0.0.21 in /usr/local/lib/python3.7/dist-packages (from contractions) (0.0.21)\n",
      "Requirement already satisfied: anyascii in /usr/local/lib/python3.7/dist-packages (from textsearch>=0.0.21->contractions) (0.2.0)\n",
      "Requirement already satisfied: pyahocorasick in /usr/local/lib/python3.7/dist-packages (from textsearch>=0.0.21->contractions) (1.4.2)\n",
      "[nltk_data] Downloading package stopwords to /root/nltk_data...\n",
      "[nltk_data]   Package stopwords is already up-to-date!\n",
      "[nltk_data] Downloading package punkt to /root/nltk_data...\n",
      "[nltk_data]   Package punkt is already up-to-date!\n",
      "[nltk_data] Downloading package wordnet to /root/nltk_data...\n",
      "[nltk_data]   Package wordnet is already up-to-date!\n"
     ]
    }
   ],
   "source": [
    "# Import/download necessary libraries.\n",
    "!pip install contractions\n",
    "\n",
    "import re, string, unicodedata\n",
    "import contractions\n",
    "from bs4 import BeautifulSoup\n",
    "\n",
    "import numpy as np\n",
    "import pandas as pd\n",
    "import seaborn as sns\n",
    "import matplotlib.pyplot as plt\n",
    "import nltk\n",
    "\n",
    "# Downlaod stopwords lists.\n",
    "nltk.download('stopwords')\n",
    "nltk.download('punkt')\n",
    "nltk.download('wordnet')\n",
    "\n",
    "from nltk.corpus import stopwords\n",
    "from nltk.tokenize import word_tokenize, sent_tokenize\n",
    "from nltk.stem.wordnet import WordNetLemmatizer"
   ]
  },
  {
   "cell_type": "markdown",
   "metadata": {
    "id": "7qTTP4zv9Dgp"
   },
   "source": [
    "**Read in the Dataset**"
   ]
  },
  {
   "cell_type": "code",
   "execution_count": 2,
   "metadata": {
    "colab": {
     "base_uri": "https://localhost:8080/"
    },
    "id": "eD7a-Gyiu8o_",
    "outputId": "d0ed9f51-57ee-4b32-cf5c-b1b37cabef52"
   },
   "outputs": [
    {
     "name": "stdout",
     "output_type": "stream",
     "text": [
      "Drive already mounted at /content/drive; to attempt to forcibly remount, call drive.mount(\"/content/drive\", force_remount=True).\n"
     ]
    }
   ],
   "source": [
    "# Mount a drive on Google Drive.\n",
    "from google.colab import drive\n",
    "drive.mount('/content/drive')"
   ]
  },
  {
   "cell_type": "code",
   "execution_count": 3,
   "metadata": {
    "id": "bWhRkWhQv6Ch"
   },
   "outputs": [],
   "source": [
    "# Read in the dataset.\n",
    "data = pd.read_csv('drive/My Drive/Tweets.csv')"
   ]
  },
  {
   "cell_type": "code",
   "execution_count": 4,
   "metadata": {
    "colab": {
     "base_uri": "https://localhost:8080/"
    },
    "id": "2U-cIKnKwKhd",
    "outputId": "db40ae42-2f42-4707-d81a-036b0d967a4e"
   },
   "outputs": [
    {
     "data": {
      "text/plain": [
       "(14640, 15)"
      ]
     },
     "execution_count": 4,
     "metadata": {
      "tags": []
     },
     "output_type": "execute_result"
    }
   ],
   "source": [
    "# Inspect the dataset.\n",
    "data.shape"
   ]
  },
  {
   "cell_type": "code",
   "execution_count": 5,
   "metadata": {
    "colab": {
     "base_uri": "https://localhost:8080/",
     "height": 445
    },
    "id": "tth22ATvwN_N",
    "outputId": "0ab7f5ca-5dfc-438d-ed46-58c0fc7655e0"
   },
   "outputs": [
    {
     "data": {
      "text/html": [
       "<div>\n",
       "<style scoped>\n",
       "    .dataframe tbody tr th:only-of-type {\n",
       "        vertical-align: middle;\n",
       "    }\n",
       "\n",
       "    .dataframe tbody tr th {\n",
       "        vertical-align: top;\n",
       "    }\n",
       "\n",
       "    .dataframe thead th {\n",
       "        text-align: right;\n",
       "    }\n",
       "</style>\n",
       "<table border=\"1\" class=\"dataframe\">\n",
       "  <thead>\n",
       "    <tr style=\"text-align: right;\">\n",
       "      <th></th>\n",
       "      <th>tweet_id</th>\n",
       "      <th>airline_sentiment</th>\n",
       "      <th>airline_sentiment_confidence</th>\n",
       "      <th>negativereason</th>\n",
       "      <th>negativereason_confidence</th>\n",
       "      <th>airline</th>\n",
       "      <th>airline_sentiment_gold</th>\n",
       "      <th>name</th>\n",
       "      <th>negativereason_gold</th>\n",
       "      <th>retweet_count</th>\n",
       "      <th>text</th>\n",
       "      <th>tweet_coord</th>\n",
       "      <th>tweet_created</th>\n",
       "      <th>tweet_location</th>\n",
       "      <th>user_timezone</th>\n",
       "    </tr>\n",
       "  </thead>\n",
       "  <tbody>\n",
       "    <tr>\n",
       "      <th>0</th>\n",
       "      <td>570306133677760513</td>\n",
       "      <td>neutral</td>\n",
       "      <td>1.0000</td>\n",
       "      <td>NaN</td>\n",
       "      <td>NaN</td>\n",
       "      <td>Virgin America</td>\n",
       "      <td>NaN</td>\n",
       "      <td>cairdin</td>\n",
       "      <td>NaN</td>\n",
       "      <td>0</td>\n",
       "      <td>@VirginAmerica What @dhepburn said.</td>\n",
       "      <td>NaN</td>\n",
       "      <td>2015-02-24 11:35:52 -0800</td>\n",
       "      <td>NaN</td>\n",
       "      <td>Eastern Time (US &amp; Canada)</td>\n",
       "    </tr>\n",
       "    <tr>\n",
       "      <th>1</th>\n",
       "      <td>570301130888122368</td>\n",
       "      <td>positive</td>\n",
       "      <td>0.3486</td>\n",
       "      <td>NaN</td>\n",
       "      <td>0.0000</td>\n",
       "      <td>Virgin America</td>\n",
       "      <td>NaN</td>\n",
       "      <td>jnardino</td>\n",
       "      <td>NaN</td>\n",
       "      <td>0</td>\n",
       "      <td>@VirginAmerica plus you've added commercials t...</td>\n",
       "      <td>NaN</td>\n",
       "      <td>2015-02-24 11:15:59 -0800</td>\n",
       "      <td>NaN</td>\n",
       "      <td>Pacific Time (US &amp; Canada)</td>\n",
       "    </tr>\n",
       "    <tr>\n",
       "      <th>2</th>\n",
       "      <td>570301083672813571</td>\n",
       "      <td>neutral</td>\n",
       "      <td>0.6837</td>\n",
       "      <td>NaN</td>\n",
       "      <td>NaN</td>\n",
       "      <td>Virgin America</td>\n",
       "      <td>NaN</td>\n",
       "      <td>yvonnalynn</td>\n",
       "      <td>NaN</td>\n",
       "      <td>0</td>\n",
       "      <td>@VirginAmerica I didn't today... Must mean I n...</td>\n",
       "      <td>NaN</td>\n",
       "      <td>2015-02-24 11:15:48 -0800</td>\n",
       "      <td>Lets Play</td>\n",
       "      <td>Central Time (US &amp; Canada)</td>\n",
       "    </tr>\n",
       "    <tr>\n",
       "      <th>3</th>\n",
       "      <td>570301031407624196</td>\n",
       "      <td>negative</td>\n",
       "      <td>1.0000</td>\n",
       "      <td>Bad Flight</td>\n",
       "      <td>0.7033</td>\n",
       "      <td>Virgin America</td>\n",
       "      <td>NaN</td>\n",
       "      <td>jnardino</td>\n",
       "      <td>NaN</td>\n",
       "      <td>0</td>\n",
       "      <td>@VirginAmerica it's really aggressive to blast...</td>\n",
       "      <td>NaN</td>\n",
       "      <td>2015-02-24 11:15:36 -0800</td>\n",
       "      <td>NaN</td>\n",
       "      <td>Pacific Time (US &amp; Canada)</td>\n",
       "    </tr>\n",
       "    <tr>\n",
       "      <th>4</th>\n",
       "      <td>570300817074462722</td>\n",
       "      <td>negative</td>\n",
       "      <td>1.0000</td>\n",
       "      <td>Can't Tell</td>\n",
       "      <td>1.0000</td>\n",
       "      <td>Virgin America</td>\n",
       "      <td>NaN</td>\n",
       "      <td>jnardino</td>\n",
       "      <td>NaN</td>\n",
       "      <td>0</td>\n",
       "      <td>@VirginAmerica and it's a really big bad thing...</td>\n",
       "      <td>NaN</td>\n",
       "      <td>2015-02-24 11:14:45 -0800</td>\n",
       "      <td>NaN</td>\n",
       "      <td>Pacific Time (US &amp; Canada)</td>\n",
       "    </tr>\n",
       "  </tbody>\n",
       "</table>\n",
       "</div>"
      ],
      "text/plain": [
       "             tweet_id  ...               user_timezone\n",
       "0  570306133677760513  ...  Eastern Time (US & Canada)\n",
       "1  570301130888122368  ...  Pacific Time (US & Canada)\n",
       "2  570301083672813571  ...  Central Time (US & Canada)\n",
       "3  570301031407624196  ...  Pacific Time (US & Canada)\n",
       "4  570300817074462722  ...  Pacific Time (US & Canada)\n",
       "\n",
       "[5 rows x 15 columns]"
      ]
     },
     "execution_count": 5,
     "metadata": {
      "tags": []
     },
     "output_type": "execute_result"
    }
   ],
   "source": [
    "data.head()"
   ]
  },
  {
   "cell_type": "markdown",
   "metadata": {
    "id": "7lHMvzq59Jqk"
   },
   "source": [
    "**Drop Unnecessary Columns**"
   ]
  },
  {
   "cell_type": "code",
   "execution_count": 6,
   "metadata": {
    "id": "w8wetmwhwPzb"
   },
   "outputs": [],
   "source": [
    "# Drop all columns from the dataset except for 'text' and 'airline_sentiment'\n",
    "data = data[['text', 'airline_sentiment']]"
   ]
  },
  {
   "cell_type": "code",
   "execution_count": 7,
   "metadata": {
    "colab": {
     "base_uri": "https://localhost:8080/"
    },
    "id": "LwnT9Sozwdhq",
    "outputId": "7377bdc9-3028-494e-c511-a1d33630441b"
   },
   "outputs": [
    {
     "data": {
      "text/plain": [
       "(14640, 2)"
      ]
     },
     "execution_count": 7,
     "metadata": {
      "tags": []
     },
     "output_type": "execute_result"
    }
   ],
   "source": [
    "# Inspect shape and first five rows of new working dataset.\n",
    "data.shape"
   ]
  },
  {
   "cell_type": "code",
   "execution_count": 8,
   "metadata": {
    "colab": {
     "base_uri": "https://localhost:8080/",
     "height": 204
    },
    "id": "bCipVY7bx0_L",
    "outputId": "241304d6-8618-4d6b-8ae9-a6e80a9d8730"
   },
   "outputs": [
    {
     "data": {
      "text/html": [
       "<div>\n",
       "<style scoped>\n",
       "    .dataframe tbody tr th:only-of-type {\n",
       "        vertical-align: middle;\n",
       "    }\n",
       "\n",
       "    .dataframe tbody tr th {\n",
       "        vertical-align: top;\n",
       "    }\n",
       "\n",
       "    .dataframe thead th {\n",
       "        text-align: right;\n",
       "    }\n",
       "</style>\n",
       "<table border=\"1\" class=\"dataframe\">\n",
       "  <thead>\n",
       "    <tr style=\"text-align: right;\">\n",
       "      <th></th>\n",
       "      <th>text</th>\n",
       "      <th>airline_sentiment</th>\n",
       "    </tr>\n",
       "  </thead>\n",
       "  <tbody>\n",
       "    <tr>\n",
       "      <th>0</th>\n",
       "      <td>@VirginAmerica What @dhepburn said.</td>\n",
       "      <td>neutral</td>\n",
       "    </tr>\n",
       "    <tr>\n",
       "      <th>1</th>\n",
       "      <td>@VirginAmerica plus you've added commercials t...</td>\n",
       "      <td>positive</td>\n",
       "    </tr>\n",
       "    <tr>\n",
       "      <th>2</th>\n",
       "      <td>@VirginAmerica I didn't today... Must mean I n...</td>\n",
       "      <td>neutral</td>\n",
       "    </tr>\n",
       "    <tr>\n",
       "      <th>3</th>\n",
       "      <td>@VirginAmerica it's really aggressive to blast...</td>\n",
       "      <td>negative</td>\n",
       "    </tr>\n",
       "    <tr>\n",
       "      <th>4</th>\n",
       "      <td>@VirginAmerica and it's a really big bad thing...</td>\n",
       "      <td>negative</td>\n",
       "    </tr>\n",
       "  </tbody>\n",
       "</table>\n",
       "</div>"
      ],
      "text/plain": [
       "                                                text airline_sentiment\n",
       "0                @VirginAmerica What @dhepburn said.           neutral\n",
       "1  @VirginAmerica plus you've added commercials t...          positive\n",
       "2  @VirginAmerica I didn't today... Must mean I n...           neutral\n",
       "3  @VirginAmerica it's really aggressive to blast...          negative\n",
       "4  @VirginAmerica and it's a really big bad thing...          negative"
      ]
     },
     "execution_count": 8,
     "metadata": {
      "tags": []
     },
     "output_type": "execute_result"
    }
   ],
   "source": [
    "data.head()"
   ]
  },
  {
   "cell_type": "markdown",
   "metadata": {
    "id": "tMMk4PBz9Vvk"
   },
   "source": [
    "**Preprocess Dataset**"
   ]
  },
  {
   "cell_type": "code",
   "execution_count": 9,
   "metadata": {
    "id": "dhrANFvYx3KJ"
   },
   "outputs": [],
   "source": [
    "# Define functions for Data Pre-processing.\n",
    "\n",
    "# HTML tag removal.\n",
    "def remove_html_tags(text):\n",
    "    # Accept a string argument. Remove HTML tags from the string.\n",
    "    bs = BeautifulSoup(text, \"html.parser\")\n",
    "    return bs.get_text()\n",
    "\n",
    "# Remove contractions.\n",
    "def remove_contractions(text):\n",
    "    # Accept a string argument. Remove contractions from this string.\n",
    "    text_no_contractions = contractions.fix(text)\n",
    "    return text_no_contractions\n",
    "\n",
    "# Remove Numbers.\n",
    "def remove_numbers(text):\n",
    "    # Accept a string argument. Apply a regex to the string to remove numeric characters.\n",
    "    text = re.sub(r'\\d+', '', text)\n",
    "    return text\n",
    "\n",
    "# Remove punctuation.\n",
    "def remove_punctuation(list_words):\n",
    "    # Accept a list of words. Apply a regex to each word to remove punctuation.\n",
    "    words = []\n",
    "    for word in list_words:\n",
    "        corrected_word = re.sub(r'[^\\w\\s]', '', word)\n",
    "        if corrected_word:\n",
    "            words.append(corrected_word)\n",
    "\n",
    "    return words\n",
    "\n",
    "# Remove Special Characters and Punctuation.\n",
    "def remove_special_characters(list_words):\n",
    "    # Accept a list of words. Remove special characters from each word.\n",
    "    words = []\n",
    "    for word in list_words:\n",
    "        corrected_word = unicodedata.normalize('NFKD', word).encode('ascii', 'ignore').decode('utf-8', 'ignore')\n",
    "        words.append(corrected_word)\n",
    "\n",
    "    return words\n",
    "\n",
    "# Remove Stopwords\n",
    "def remove_stopwords(list_words):\n",
    "    # Accept a list of words. Remove words from list that are stopwords.\n",
    "    words = []\n",
    "    for word in list_words:\n",
    "        if word not in stopwords:\n",
    "            words.append(word)\n",
    "\n",
    "    return words\n",
    "\n",
    "# Convert words to lowercase.\n",
    "def lowercase_words(list_words):\n",
    "    # Accept a list of words, lowercase each word.\n",
    "    lowercased_words = []\n",
    "    for word in list_words:\n",
    "        lowercased_word = word.lower()\n",
    "        lowercased_words.append(lowercased_word)\n",
    "\n",
    "    return lowercased_words\n",
    "\n",
    "# Lemmatize words.\n",
    "def lemmatize_words(list_words):\n",
    "    # Accept a list of words, lemmatize each word in the list.\n",
    "    lemmatized_words = []\n",
    "    for word in list_words:\n",
    "        lemmatized_word = wnl.lemmatize(word, pos='v')\n",
    "        lemmatized_words.append(lemmatized_word)\n",
    "\n",
    "    return lemmatized_words\n",
    "\n",
    "# Tokenization.\n",
    "def tokenize(text):\n",
    "    # Accept one string variable, parse the string into a list of words.\n",
    "    return nltk.word_tokenize(text)\n",
    "\n",
    "def preprocess_text(text):\n",
    "    # Process text as one string per each record.\n",
    "    text = remove_html_tags(text)\n",
    "    text = remove_numbers(text)\n",
    "    text = remove_contractions(text)\n",
    "    # Process text as a list of strings - Tokenized format.\n",
    "    text = tokenize(text)\n",
    "    text = remove_punctuation(text)\n",
    "    text = remove_special_characters(text)\n",
    "    text = remove_stopwords(text)\n",
    "    text = lowercase_words(text)\n",
    "    text = lemmatize_words(text)\n",
    "    # Join the list of tokenized words back into one string.\n",
    "    text = ' '.join(text)\n",
    "\n",
    "    # Return the text as one string after pre-processing has been applied.    \n",
    "    return text"
   ]
  },
  {
   "cell_type": "code",
   "execution_count": 10,
   "metadata": {
    "id": "gGJ2FrUC0LWO"
   },
   "outputs": [],
   "source": [
    "# Retrieve list of stopwords to be removed in pre-processing.\n",
    "stopwords = stopwords.words('english')\n",
    "\n",
    "# Initialize a Lemmatizer for pre-processing.\n",
    "from nltk.stem.wordnet import WordNetLemmatizer\n",
    "wnl = WordNetLemmatizer()\n",
    "\n",
    "# Apply text preprocessing function to each record in the dataset.\n",
    "data['text'] = data.apply(lambda record: preprocess_text(record['text']), axis=1)"
   ]
  },
  {
   "cell_type": "code",
   "execution_count": 11,
   "metadata": {
    "colab": {
     "base_uri": "https://localhost:8080/",
     "height": 204
    },
    "id": "tACa9t24xMqH",
    "outputId": "e7b6be71-8a67-4c8e-c50a-0381619926da"
   },
   "outputs": [
    {
     "data": {
      "text/html": [
       "<div>\n",
       "<style scoped>\n",
       "    .dataframe tbody tr th:only-of-type {\n",
       "        vertical-align: middle;\n",
       "    }\n",
       "\n",
       "    .dataframe tbody tr th {\n",
       "        vertical-align: top;\n",
       "    }\n",
       "\n",
       "    .dataframe thead th {\n",
       "        text-align: right;\n",
       "    }\n",
       "</style>\n",
       "<table border=\"1\" class=\"dataframe\">\n",
       "  <thead>\n",
       "    <tr style=\"text-align: right;\">\n",
       "      <th></th>\n",
       "      <th>text</th>\n",
       "      <th>airline_sentiment</th>\n",
       "    </tr>\n",
       "  </thead>\n",
       "  <tbody>\n",
       "    <tr>\n",
       "      <th>0</th>\n",
       "      <td>virginamerica what dhepburn say</td>\n",
       "      <td>neutral</td>\n",
       "    </tr>\n",
       "    <tr>\n",
       "      <th>1</th>\n",
       "      <td>virginamerica plus add commercials experience ...</td>\n",
       "      <td>positive</td>\n",
       "    </tr>\n",
       "    <tr>\n",
       "      <th>2</th>\n",
       "      <td>virginamerica i today must mean i need take an...</td>\n",
       "      <td>neutral</td>\n",
       "    </tr>\n",
       "    <tr>\n",
       "      <th>3</th>\n",
       "      <td>virginamerica really aggressive blast obnoxiou...</td>\n",
       "      <td>negative</td>\n",
       "    </tr>\n",
       "    <tr>\n",
       "      <th>4</th>\n",
       "      <td>virginamerica really big bad thing</td>\n",
       "      <td>negative</td>\n",
       "    </tr>\n",
       "  </tbody>\n",
       "</table>\n",
       "</div>"
      ],
      "text/plain": [
       "                                                text airline_sentiment\n",
       "0                    virginamerica what dhepburn say           neutral\n",
       "1  virginamerica plus add commercials experience ...          positive\n",
       "2  virginamerica i today must mean i need take an...           neutral\n",
       "3  virginamerica really aggressive blast obnoxiou...          negative\n",
       "4                 virginamerica really big bad thing          negative"
      ]
     },
     "execution_count": 11,
     "metadata": {
      "tags": []
     },
     "output_type": "execute_result"
    }
   ],
   "source": [
    "# Inspect data after pre-processing.\n",
    "data.head()"
   ]
  },
  {
   "cell_type": "markdown",
   "metadata": {
    "id": "QOPMQC0kAG1W"
   },
   "source": [
    "**Vectorization**"
   ]
  },
  {
   "cell_type": "code",
   "execution_count": 12,
   "metadata": {
    "id": "Q7YRTagbAGSp"
   },
   "outputs": [],
   "source": [
    "# Define functions for vectorization.\n",
    "\n",
    "def get_data_features(dataset, vectorizer):\n",
    "    # Use a vectorizer object and fit on the dataset.\n",
    "    data_features = vectorizer.fit_transform(data['text'])\n",
    "    return data_features.toarray()\n",
    "\n",
    "def format_labels(dataset):\n",
    "    # Format the labels in the dataset from strings to integers.\n",
    "    labels = dataset[\"airline_sentiment\"]\n",
    "    labels = labels.replace({\"negative\": 0, \"neutral\": 1, \"positive\": 2})\n",
    "    labels = labels.astype('int')\n",
    "\n",
    "    return labels"
   ]
  },
  {
   "cell_type": "markdown",
   "metadata": {
    "id": "WfAVbdojBz4g"
   },
   "source": [
    "**CountVectorizer**"
   ]
  },
  {
   "cell_type": "code",
   "execution_count": 13,
   "metadata": {
    "id": "O-YVhHypMIAb"
   },
   "outputs": [],
   "source": [
    "# CountVectorizer.\n",
    "\n",
    "from sklearn.feature_extraction.text import CountVectorizer\n",
    "cv_vectorizer = CountVectorizer(max_features=1000)\n",
    "\n",
    "cv_data_features = get_data_features(data, cv_vectorizer)\n",
    "cv_labels = format_labels(data)"
   ]
  },
  {
   "cell_type": "code",
   "execution_count": 14,
   "metadata": {
    "id": "eXJO1Ss4Bbmg"
   },
   "outputs": [],
   "source": [
    "# Split dataset into training and test sets for CountVectorization.\n",
    "\n",
    "from sklearn.model_selection import train_test_split\n",
    "\n",
    "X_train, X_test, y_train, y_test = train_test_split(cv_data_features, cv_labels, test_size=.2, random_state=1)"
   ]
  },
  {
   "cell_type": "code",
   "execution_count": 15,
   "metadata": {
    "id": "8xYuMUgsK4eX"
   },
   "outputs": [],
   "source": [
    "# Train the model.\n",
    "from sklearn.ensemble import RandomForestClassifier\n",
    "from sklearn.model_selection import cross_val_score\n",
    "\n",
    "cv_rfc = RandomForestClassifier(n_estimators = 10, n_jobs=4) \n",
    "cv_rfc = cv_rfc.fit(X_train, y_train)"
   ]
  },
  {
   "cell_type": "code",
   "execution_count": 16,
   "metadata": {
    "id": "Ri80-OuD6ytF"
   },
   "outputs": [],
   "source": [
    "# Make prediction.\n",
    "cv_prediction = cv_rfc.predict(X_test)"
   ]
  },
  {
   "cell_type": "markdown",
   "metadata": {
    "id": "iYAveNz_GnNs"
   },
   "source": [
    "**Evauluate CountVectorizer Model**"
   ]
  },
  {
   "cell_type": "code",
   "execution_count": 17,
   "metadata": {
    "colab": {
     "base_uri": "https://localhost:8080/",
     "height": 609
    },
    "id": "lxpBzrObGrqQ",
    "outputId": "62e4f14d-9a0c-4933-f283-5c4304d5b09f"
   },
   "outputs": [
    {
     "data": {
      "text/plain": [
       "<matplotlib.axes._subplots.AxesSubplot at 0x7f0d2e56c310>"
      ]
     },
     "execution_count": 17,
     "metadata": {
      "tags": []
     },
     "output_type": "execute_result"
    },
    {
     "data": {
      "image/png": "[encoded data removed]",
      "text/plain": [
       "<Figure size 1080x720 with 2 Axes>"
      ]
     },
     "metadata": {
      "needs_background": "light",
      "tags": []
     },
     "output_type": "display_data"
    }
   ],
   "source": [
    "# Display Confusion Matrix.\n",
    "from sklearn.metrics import confusion_matrix\n",
    "\n",
    "cv_cm = confusion_matrix(y_test, cv_prediction)\n",
    "\n",
    "plt.figure(figsize=(15,10))\n",
    "sns.heatmap(cv_cm, annot=True, fmt='g')"
   ]
  },
  {
   "cell_type": "code",
   "execution_count": 18,
   "metadata": {
    "colab": {
     "base_uri": "https://localhost:8080/"
    },
    "id": "DjMzrzlmRw1j",
    "outputId": "3436a96a-d623-400f-8892-dea49b2fcde5"
   },
   "outputs": [
    {
     "data": {
      "text/plain": [
       "0.737363387978142"
      ]
     },
     "execution_count": 18,
     "metadata": {
      "tags": []
     },
     "output_type": "execute_result"
    }
   ],
   "source": [
    "# Evaluate metrics.\n",
    "\n",
    "from sklearn import metrics\n",
    "\n",
    "metrics.accuracy_score(y_test, cv_prediction)"
   ]
  },
  {
   "cell_type": "markdown",
   "metadata": {
    "id": "Ev2HEicDCEBJ"
   },
   "source": [
    "**TF-IDF Vectorizer**"
   ]
  },
  {
   "cell_type": "code",
   "execution_count": 19,
   "metadata": {
    "id": "pJPxxBPaCuEH"
   },
   "outputs": [],
   "source": [
    "# TfidfVectorizer.\n",
    "\n",
    "from sklearn.feature_extraction.text import TfidfVectorizer\n",
    "tfidf_vectorizer = TfidfVectorizer(max_features=1000)\n",
    "\n",
    "tfidf_data_features = get_data_features(data, tfidf_vectorizer)\n",
    "tfidf_labels = format_labels(data)"
   ]
  },
  {
   "cell_type": "code",
   "execution_count": 20,
   "metadata": {
    "id": "mIAjMIYkDDR9"
   },
   "outputs": [],
   "source": [
    "# Split dataset into training and test sets for TfidfVectorization.\n",
    "\n",
    "from sklearn.model_selection import train_test_split\n",
    "\n",
    "X_train, X_test, y_train, y_test = train_test_split(tfidf_data_features, tfidf_labels, test_size=.2, random_state=1)"
   ]
  },
  {
   "cell_type": "code",
   "execution_count": 21,
   "metadata": {
    "id": "KiHevFnDDPNo"
   },
   "outputs": [],
   "source": [
    "# Train the model.\n",
    "from sklearn.ensemble import RandomForestClassifier\n",
    "from sklearn.model_selection import cross_val_score\n",
    "\n",
    "tfidf_rfc = RandomForestClassifier(n_estimators = 10) \n",
    "tfidf_rfc = tfidf_rfc.fit(X_train, y_train)"
   ]
  },
  {
   "cell_type": "code",
   "execution_count": 22,
   "metadata": {
    "id": "uVkvMcbRSHUW"
   },
   "outputs": [],
   "source": [
    "# Make prediction.\n",
    "tfidf_prediction = tfidf_rfc.predict(X_test)"
   ]
  },
  {
   "cell_type": "markdown",
   "metadata": {
    "id": "H2ZWS7RGGtRN"
   },
   "source": [
    "**Evaluate TfidfVectorizer**"
   ]
  },
  {
   "cell_type": "code",
   "execution_count": 23,
   "metadata": {
    "colab": {
     "base_uri": "https://localhost:8080/",
     "height": 609
    },
    "id": "axq5jSaYGst1",
    "outputId": "0e0d0412-61ea-44e3-d05d-b721bf24a8d4"
   },
   "outputs": [
    {
     "data": {
      "text/plain": [
       "<matplotlib.axes._subplots.AxesSubplot at 0x7f0d2be1c150>"
      ]
     },
     "execution_count": 23,
     "metadata": {
      "tags": []
     },
     "output_type": "execute_result"
    },
    {
     "data": {
      "image/png": "[encoded data removed]",
      "text/plain": [
       "<Figure size 1080x720 with 2 Axes>"
      ]
     },
     "metadata": {
      "needs_background": "light",
      "tags": []
     },
     "output_type": "display_data"
    }
   ],
   "source": [
    "# Display Confusion Matrix.\n",
    "from sklearn.metrics import confusion_matrix\n",
    "\n",
    "tfidf_cm = confusion_matrix(y_test, tfidf_prediction)\n",
    "\n",
    "plt.figure(figsize=(15,10))\n",
    "sns.heatmap(tfidf_cm, annot=True, fmt='g')"
   ]
  },
  {
   "cell_type": "code",
   "execution_count": 24,
   "metadata": {
    "colab": {
     "base_uri": "https://localhost:8080/"
    },
    "id": "gfqliCjJSM12",
    "outputId": "899a121f-f828-4f09-89ad-3afdf368767a"
   },
   "outputs": [
    {
     "data": {
      "text/plain": [
       "0.7370218579234973"
      ]
     },
     "execution_count": 24,
     "metadata": {
      "tags": []
     },
     "output_type": "execute_result"
    }
   ],
   "source": [
    "# Evaluate metrics.\n",
    "\n",
    "from sklearn import metrics\n",
    "\n",
    "metrics.accuracy_score(y_test, tfidf_prediction)"
   ]
  },
  {
   "cell_type": "markdown",
   "metadata": {
    "id": "6L869MqTDmD0"
   },
   "source": [
    "**Conclusion / Summary**"
   ]
  },
  {
   "cell_type": "markdown",
   "metadata": {
    "id": "Wj9xN0mTEEjQ"
   },
   "source": [
    "- The dataset consisted of tweets about an airline that contained a feature indicating whether the sentiment of the tweet was positive, negative, or neutral.\n",
    "- A model was built to learn from this set of tweets to try to determine sentiment based on text in the tweets.\n",
    "- The data were pre-processed by dropping irrelevant features. Next, a series of functions were applied to the data to remove HTML tags, punctuation, numerical characters, words with contractions, special characters, and stopwords. Finally, all the words were lowercased.\n",
    "- The dataset was vecotrized using two kinds of vectorization (Count Vectorization and TF-IDF Vectorization). The vectorization converts the series of words into numbers, allowing us to input them into a Random Forest Classifier model.\n",
    "- The Count Vectorizer generally represents how frequently a word occurs, while the TF-IDF Vectorizer provides a weight for words that are more important to the context of the text.\n",
    "- The data were fit  on the model using both vectorizer types, and after training the models, predictions were made on test sets.\n",
    "- The model that used the TF-IDF achieved slightly better accuracy than the model that used the Count Vectorizer, although the difference is negligible.\n",
    "- Based on the Confusion Matrix generated for each model, both models appear to be better at classifying text with negative sentiment. Both models appear to struggle classifying neutral sentiment in text, which intuitively makes sense, as neutrality is somewhat ambiguous and subjective.\n",
    "- The dataset appears to have signifcantly more text with negative sentiment which could impact how the model performed."
   ]
  }
 ],
 "metadata": {
  "colab": {
   "collapsed_sections": [],
   "name": "TwitterSentimentAnalysis.ipynb",
   "provenance": []
  },
  "kernelspec": {
   "display_name": "Python 3",
   "language": "python",
   "name": "python3"
  },
  "language_info": {
   "codemirror_mode": {
    "name": "ipython",
    "version": 3
   },
   "file_extension": ".py",
   "mimetype": "text/x-python",
   "name": "python",
   "nbconvert_exporter": "python",
   "pygments_lexer": "ipython3",
   "version": "3.8.3"
  }
 },
 "nbformat": 4,
 "nbformat_minor": 1
}
